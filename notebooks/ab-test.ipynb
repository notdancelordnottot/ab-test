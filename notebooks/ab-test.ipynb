{
 "cells": [
  {
   "cell_type": "code",
   "id": "initial_id",
   "metadata": {
    "collapsed": true,
    "ExecuteTime": {
     "end_time": "2025-07-03T11:52:06.908648Z",
     "start_time": "2025-07-03T11:52:06.597586Z"
    }
   },
   "source": [
    "import pandas as pd\n",
    "import numpy as np"
   ],
   "outputs": [],
   "execution_count": 1
  },
  {
   "metadata": {
    "ExecuteTime": {
     "end_time": "2025-07-03T11:52:06.948036Z",
     "start_time": "2025-07-03T11:52:06.908648Z"
    }
   },
   "cell_type": "code",
   "source": "data = pd.read_csv(r'../data/cookie_cats.csv')",
   "id": "19e2b7cd19387aa",
   "outputs": [],
   "execution_count": 2
  },
  {
   "metadata": {
    "ExecuteTime": {
     "end_time": "2025-07-03T11:52:07.136370Z",
     "start_time": "2025-07-03T11:52:07.126245Z"
    }
   },
   "cell_type": "code",
   "source": "data.info()",
   "id": "cac217d545474a01",
   "outputs": [
    {
     "name": "stdout",
     "output_type": "stream",
     "text": [
      "<class 'pandas.core.frame.DataFrame'>\n",
      "RangeIndex: 90189 entries, 0 to 90188\n",
      "Data columns (total 5 columns):\n",
      " #   Column          Non-Null Count  Dtype \n",
      "---  ------          --------------  ----- \n",
      " 0   userid          90189 non-null  int64 \n",
      " 1   version         90189 non-null  object\n",
      " 2   sum_gamerounds  90189 non-null  int64 \n",
      " 3   retention_1     90189 non-null  bool  \n",
      " 4   retention_7     90189 non-null  bool  \n",
      "dtypes: bool(2), int64(2), object(1)\n",
      "memory usage: 2.2+ MB\n"
     ]
    }
   ],
   "execution_count": 3
  },
  {
   "metadata": {
    "ExecuteTime": {
     "end_time": "2025-07-03T11:52:07.194295Z",
     "start_time": "2025-07-03T11:52:07.183058Z"
    }
   },
   "cell_type": "code",
   "source": "metrics_summary = data.groupby('version').agg({'userid':'count','retention_1':'sum', 'retention_7':'sum', 'sum_gamerounds':'sum'})",
   "id": "bd057b3f7d78d5ce",
   "outputs": [],
   "execution_count": 5
  },
  {
   "metadata": {
    "ExecuteTime": {
     "end_time": "2025-07-03T11:52:09.910689Z",
     "start_time": "2025-07-03T11:52:09.900628Z"
    }
   },
   "cell_type": "code",
   "source": [
    "metrics_summary['retention_avg_1'] = metrics_summary['retention_1']/metrics_summary['userid']\n",
    "metrics_summary['retention_avg_7'] = metrics_summary['retention_7']/metrics_summary['userid']\n",
    "metrics_summary['sum_gamerounds_avg'] = metrics_summary['sum_gamerounds']/metrics_summary['userid']\n",
    "metrics_summary"
   ],
   "id": "ba49cb68759e8cba",
   "outputs": [
    {
     "data": {
      "text/plain": [
       "         userid  retention_1  retention_7  sum_gamerounds  retention_avg_1  \\\n",
       "version                                                                      \n",
       "gate_30   44700        20034         8502         2344795         0.448188   \n",
       "gate_40   45489        20119         8279         2333530         0.442283   \n",
       "\n",
       "         retention_avg_7  sum_gamerounds_avg  \n",
       "version                                       \n",
       "gate_30         0.190201           52.456264  \n",
       "gate_40         0.182000           51.298776  "
      ],
      "text/html": [
       "<div>\n",
       "<style scoped>\n",
       "    .dataframe tbody tr th:only-of-type {\n",
       "        vertical-align: middle;\n",
       "    }\n",
       "\n",
       "    .dataframe tbody tr th {\n",
       "        vertical-align: top;\n",
       "    }\n",
       "\n",
       "    .dataframe thead th {\n",
       "        text-align: right;\n",
       "    }\n",
       "</style>\n",
       "<table border=\"1\" class=\"dataframe\">\n",
       "  <thead>\n",
       "    <tr style=\"text-align: right;\">\n",
       "      <th></th>\n",
       "      <th>userid</th>\n",
       "      <th>retention_1</th>\n",
       "      <th>retention_7</th>\n",
       "      <th>sum_gamerounds</th>\n",
       "      <th>retention_avg_1</th>\n",
       "      <th>retention_avg_7</th>\n",
       "      <th>sum_gamerounds_avg</th>\n",
       "    </tr>\n",
       "    <tr>\n",
       "      <th>version</th>\n",
       "      <th></th>\n",
       "      <th></th>\n",
       "      <th></th>\n",
       "      <th></th>\n",
       "      <th></th>\n",
       "      <th></th>\n",
       "      <th></th>\n",
       "    </tr>\n",
       "  </thead>\n",
       "  <tbody>\n",
       "    <tr>\n",
       "      <th>gate_30</th>\n",
       "      <td>44700</td>\n",
       "      <td>20034</td>\n",
       "      <td>8502</td>\n",
       "      <td>2344795</td>\n",
       "      <td>0.448188</td>\n",
       "      <td>0.190201</td>\n",
       "      <td>52.456264</td>\n",
       "    </tr>\n",
       "    <tr>\n",
       "      <th>gate_40</th>\n",
       "      <td>45489</td>\n",
       "      <td>20119</td>\n",
       "      <td>8279</td>\n",
       "      <td>2333530</td>\n",
       "      <td>0.442283</td>\n",
       "      <td>0.182000</td>\n",
       "      <td>51.298776</td>\n",
       "    </tr>\n",
       "  </tbody>\n",
       "</table>\n",
       "</div>"
      ]
     },
     "execution_count": 8,
     "metadata": {},
     "output_type": "execute_result"
    }
   ],
   "execution_count": 8
  },
  {
   "metadata": {},
   "cell_type": "markdown",
   "source": "### retention_1 и retention_7",
   "id": "b3318d27661d57b0"
  },
  {
   "metadata": {},
   "cell_type": "markdown",
   "source": "#### Проверка на достаточность данных для теста",
   "id": "3e5c42a8e1f3fab"
  },
  {
   "metadata": {
    "ExecuteTime": {
     "end_time": "2025-07-03T12:07:42.238968Z",
     "start_time": "2025-07-03T12:07:42.219239Z"
    }
   },
   "cell_type": "code",
   "source": [
    "from statsmodels.stats.power import NormalIndPower\n",
    "\n",
    "group_sample_size = min(metrics_summary.loc['gate_30','userid'],metrics_summary.loc['gate_40','userid'])\n",
    "p1_retention_1 = metrics_summary.loc['gate_30','retention_avg_1']    # Контрольная группа retention_1\n",
    "p2_retention_1 = metrics_summary.loc['gate_40','retention_avg_1']    # Тестовая группа retention_1\n",
    "effect_size_retention_1 = 0.0445                                     # Ожидаемое изменение retention_1 +10%\n",
    "\n",
    "p1_retention_7 = metrics_summary.loc['gate_30','retention_avg_7']    # Контрольная группа retention_7\n",
    "p2_retention_7 = metrics_summary.loc['gate_40','retention_avg_7']    # Тестовая группа retention_7\n",
    "effect_size_retention_7 = 0.019                                      # Ожидаемое изменение retention_7 +10%\n",
    "\n",
    "def sample_sufficiency_test(p1,p2,effect_size, group_sample_size):\n",
    "    power_analysis = NormalIndPower()\n",
    "    sample_size = power_analysis.solve_power(effect_size=effect_size, power=0.8, alpha=0.05, alternative='larger')\n",
    "\n",
    "    print(f\"Данных в каждой группе достаточно для теста - {group_sample_size>sample_size}\")"
   ],
   "id": "a1ea4ae94c7a6546",
   "outputs": [],
   "execution_count": 31
  },
  {
   "metadata": {},
   "cell_type": "markdown",
   "source": "##### retention_1",
   "id": "5cb13a85d745d45f"
  },
  {
   "metadata": {
    "ExecuteTime": {
     "end_time": "2025-07-03T12:07:44.239539Z",
     "start_time": "2025-07-03T12:07:44.227739Z"
    }
   },
   "cell_type": "code",
   "source": "sample_sufficiency_test(p1_retention_1,p2_retention_1,effect_size_retention_1, group_sample_size)",
   "id": "9f6408c1006f223a",
   "outputs": [
    {
     "name": "stdout",
     "output_type": "stream",
     "text": [
      "Данных в каждой группе достаточно для теста - True\n"
     ]
    }
   ],
   "execution_count": 32
  },
  {
   "metadata": {},
   "cell_type": "markdown",
   "source": "##### retention_7",
   "id": "7f335c6c378160e2"
  },
  {
   "metadata": {
    "ExecuteTime": {
     "end_time": "2025-07-03T12:07:46.238544Z",
     "start_time": "2025-07-03T12:07:46.221177Z"
    }
   },
   "cell_type": "code",
   "source": "sample_sufficiency_test(p1_retention_7,p2_retention_7,effect_size_retention_7, group_sample_size)",
   "id": "9c00a68273816e32",
   "outputs": [
    {
     "name": "stdout",
     "output_type": "stream",
     "text": [
      "Данных в каждой группе достаточно для теста - True\n"
     ]
    }
   ],
   "execution_count": 33
  },
  {
   "metadata": {},
   "cell_type": "markdown",
   "source": "#### Z-тест пропорций",
   "id": "2e13a44cb063cfeb"
  },
  {
   "metadata": {},
   "cell_type": "markdown",
   "source": "##### retention_1",
   "id": "805c5c6505c72c58"
  },
  {
   "metadata": {
    "ExecuteTime": {
     "end_time": "2025-07-03T12:26:33.297959Z",
     "start_time": "2025-07-03T12:26:33.286518Z"
    }
   },
   "cell_type": "code",
   "source": [
    "from statsmodels.stats.proportion import proportions_ztest\n",
    "\n",
    "success = [metrics_summary.loc['gate_40','retention_1'], metrics_summary.loc['gate_30','retention_1']]\n",
    "nobs = [metrics_summary.loc['gate_40','userid'], metrics_summary.loc['gate_30','userid']]\n",
    "\n",
    "z_stat, p_value = proportions_ztest(count=success, nobs=nobs, alternative='larger')\n",
    "\n",
    "print(f\"Z-статистика: {z_stat:.3f}\")\n",
    "print(f\"P-value: {p_value:.4f}\")\n",
    "print(f'Нулевая гипотеза отвергнута - {p_value < 0.05}')"
   ],
   "id": "a0c397b09080f537",
   "outputs": [
    {
     "name": "stdout",
     "output_type": "stream",
     "text": [
      "Z-статистика: -1.784\n",
      "P-value: 0.9628\n",
      "Нулевая гипотеза отвергнута - False\n"
     ]
    }
   ],
   "execution_count": 43
  },
  {
   "metadata": {},
   "cell_type": "markdown",
   "source": "##### retention_7",
   "id": "6d0068b10e274830"
  },
  {
   "metadata": {
    "ExecuteTime": {
     "end_time": "2025-07-03T12:26:40.501480Z",
     "start_time": "2025-07-03T12:26:40.490911Z"
    }
   },
   "cell_type": "code",
   "source": [
    "from statsmodels.stats.proportion import proportions_ztest\n",
    "\n",
    "success = [metrics_summary.loc['gate_40','retention_7'], metrics_summary.loc['gate_30','retention_7']]\n",
    "nobs = [metrics_summary.loc['gate_40','userid'], metrics_summary.loc['gate_30','userid']]\n",
    "\n",
    "z_stat, p_value = proportions_ztest(count=success, nobs=nobs, alternative='larger')\n",
    "\n",
    "print(f\"Z-статистика: {z_stat:.3f}\")\n",
    "print(f\"P-value: {p_value:.4f}\")\n",
    "print(f'Нулевая гипотеза отвергнута - {p_value < 0.05}')"
   ],
   "id": "7a518fd6025e4a7d",
   "outputs": [
    {
     "name": "stdout",
     "output_type": "stream",
     "text": [
      "Z-статистика: -3.164\n",
      "P-value: 0.9992\n",
      "Нулевая гипотеза отвергнута - False\n"
     ]
    }
   ],
   "execution_count": 44
  }
 ],
 "metadata": {
  "kernelspec": {
   "display_name": "Python 3",
   "language": "python",
   "name": "python3"
  },
  "language_info": {
   "codemirror_mode": {
    "name": "ipython",
    "version": 2
   },
   "file_extension": ".py",
   "mimetype": "text/x-python",
   "name": "python",
   "nbconvert_exporter": "python",
   "pygments_lexer": "ipython2",
   "version": "2.7.6"
  }
 },
 "nbformat": 4,
 "nbformat_minor": 5
}
