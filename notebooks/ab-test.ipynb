{
 "cells": [
  {
   "cell_type": "code",
   "id": "initial_id",
   "metadata": {
    "collapsed": true,
    "ExecuteTime": {
     "end_time": "2025-07-03T20:05:30.281967Z",
     "start_time": "2025-07-03T20:05:30.268291Z"
    }
   },
   "source": [
    "import pandas as pd\n",
    "import numpy as np\n",
    "from statsmodels.stats.power import NormalIndPower\n",
    "from statsmodels.stats.proportion import proportions_ztest\n",
    "import matplotlib.pyplot as plt\n",
    "import seaborn as sns\n",
    "from scipy.stats import mannwhitneyu"
   ],
   "outputs": [],
   "execution_count": 61
  },
  {
   "metadata": {
    "ExecuteTime": {
     "end_time": "2025-07-03T19:43:37.485062Z",
     "start_time": "2025-07-03T19:43:37.441773Z"
    }
   },
   "cell_type": "code",
   "source": "data = pd.read_csv(r'../data/cookie_cats.csv')",
   "id": "19e2b7cd19387aa",
   "outputs": [],
   "execution_count": 2
  },
  {
   "metadata": {
    "ExecuteTime": {
     "end_time": "2025-07-03T19:43:37.778913Z",
     "start_time": "2025-07-03T19:43:37.766368Z"
    }
   },
   "cell_type": "code",
   "source": "data.info()",
   "id": "cac217d545474a01",
   "outputs": [
    {
     "name": "stdout",
     "output_type": "stream",
     "text": [
      "<class 'pandas.core.frame.DataFrame'>\n",
      "RangeIndex: 90189 entries, 0 to 90188\n",
      "Data columns (total 5 columns):\n",
      " #   Column          Non-Null Count  Dtype \n",
      "---  ------          --------------  ----- \n",
      " 0   userid          90189 non-null  int64 \n",
      " 1   version         90189 non-null  object\n",
      " 2   sum_gamerounds  90189 non-null  int64 \n",
      " 3   retention_1     90189 non-null  bool  \n",
      " 4   retention_7     90189 non-null  bool  \n",
      "dtypes: bool(2), int64(2), object(1)\n",
      "memory usage: 2.2+ MB\n"
     ]
    }
   ],
   "execution_count": 3
  },
  {
   "metadata": {
    "ExecuteTime": {
     "end_time": "2025-07-03T19:43:37.809482Z",
     "start_time": "2025-07-03T19:43:37.798323Z"
    }
   },
   "cell_type": "code",
   "source": "metrics_summary = data.groupby('version').agg({'userid':'count','retention_1':'sum', 'retention_7':'sum', 'sum_gamerounds':'sum'})",
   "id": "bd057b3f7d78d5ce",
   "outputs": [],
   "execution_count": 4
  },
  {
   "metadata": {
    "ExecuteTime": {
     "end_time": "2025-07-03T19:43:37.855905Z",
     "start_time": "2025-07-03T19:43:37.834977Z"
    }
   },
   "cell_type": "code",
   "source": [
    "metrics_summary['retention_avg_1'] = metrics_summary['retention_1']/metrics_summary['userid']\n",
    "metrics_summary['retention_avg_7'] = metrics_summary['retention_7']/metrics_summary['userid']\n",
    "metrics_summary['sum_gamerounds_avg'] = metrics_summary['sum_gamerounds']/metrics_summary['userid']\n",
    "metrics_summary"
   ],
   "id": "ba49cb68759e8cba",
   "outputs": [
    {
     "data": {
      "text/plain": [
       "         userid  retention_1  retention_7  sum_gamerounds  retention_avg_1  \\\n",
       "version                                                                      \n",
       "gate_30   44700        20034         8502         2344795         0.448188   \n",
       "gate_40   45489        20119         8279         2333530         0.442283   \n",
       "\n",
       "         retention_avg_7  sum_gamerounds_avg  \n",
       "version                                       \n",
       "gate_30         0.190201           52.456264  \n",
       "gate_40         0.182000           51.298776  "
      ],
      "text/html": [
       "<div>\n",
       "<style scoped>\n",
       "    .dataframe tbody tr th:only-of-type {\n",
       "        vertical-align: middle;\n",
       "    }\n",
       "\n",
       "    .dataframe tbody tr th {\n",
       "        vertical-align: top;\n",
       "    }\n",
       "\n",
       "    .dataframe thead th {\n",
       "        text-align: right;\n",
       "    }\n",
       "</style>\n",
       "<table border=\"1\" class=\"dataframe\">\n",
       "  <thead>\n",
       "    <tr style=\"text-align: right;\">\n",
       "      <th></th>\n",
       "      <th>userid</th>\n",
       "      <th>retention_1</th>\n",
       "      <th>retention_7</th>\n",
       "      <th>sum_gamerounds</th>\n",
       "      <th>retention_avg_1</th>\n",
       "      <th>retention_avg_7</th>\n",
       "      <th>sum_gamerounds_avg</th>\n",
       "    </tr>\n",
       "    <tr>\n",
       "      <th>version</th>\n",
       "      <th></th>\n",
       "      <th></th>\n",
       "      <th></th>\n",
       "      <th></th>\n",
       "      <th></th>\n",
       "      <th></th>\n",
       "      <th></th>\n",
       "    </tr>\n",
       "  </thead>\n",
       "  <tbody>\n",
       "    <tr>\n",
       "      <th>gate_30</th>\n",
       "      <td>44700</td>\n",
       "      <td>20034</td>\n",
       "      <td>8502</td>\n",
       "      <td>2344795</td>\n",
       "      <td>0.448188</td>\n",
       "      <td>0.190201</td>\n",
       "      <td>52.456264</td>\n",
       "    </tr>\n",
       "    <tr>\n",
       "      <th>gate_40</th>\n",
       "      <td>45489</td>\n",
       "      <td>20119</td>\n",
       "      <td>8279</td>\n",
       "      <td>2333530</td>\n",
       "      <td>0.442283</td>\n",
       "      <td>0.182000</td>\n",
       "      <td>51.298776</td>\n",
       "    </tr>\n",
       "  </tbody>\n",
       "</table>\n",
       "</div>"
      ]
     },
     "execution_count": 5,
     "metadata": {},
     "output_type": "execute_result"
    }
   ],
   "execution_count": 5
  },
  {
   "metadata": {},
   "cell_type": "markdown",
   "source": "### retention_1 и retention_7",
   "id": "b3318d27661d57b0"
  },
  {
   "metadata": {},
   "cell_type": "markdown",
   "source": "#### Проверка на достаточность данных для теста",
   "id": "3e5c42a8e1f3fab"
  },
  {
   "metadata": {
    "ExecuteTime": {
     "end_time": "2025-07-03T19:43:37.950961Z",
     "start_time": "2025-07-03T19:43:37.945523Z"
    }
   },
   "cell_type": "code",
   "source": [
    "group_sample_size = min(metrics_summary.loc['gate_30','userid'],metrics_summary.loc['gate_40','userid'])\n",
    "p1_retention_1 = metrics_summary.loc['gate_30','retention_avg_1']    # Контрольная группа retention_1\n",
    "p2_retention_1 = metrics_summary.loc['gate_40','retention_avg_1']    # Тестовая группа retention_1\n",
    "effect_size_retention_1 = 0.0445                                     # Ожидаемое изменение retention_1 +10%\n",
    "\n",
    "p1_retention_7 = metrics_summary.loc['gate_30','retention_avg_7']    # Контрольная группа retention_7\n",
    "p2_retention_7 = metrics_summary.loc['gate_40','retention_avg_7']    # Тестовая группа retention_7\n",
    "effect_size_retention_7 = 0.019                                      # Ожидаемое изменение retention_7 +10%\n",
    "\n",
    "def sample_sufficiency_test(p1,p2,effect_size, group_sample_size):\n",
    "    power_analysis = NormalIndPower()\n",
    "    sample_size = power_analysis.solve_power(effect_size=effect_size, power=0.8, alpha=0.05, alternative='larger')\n",
    "\n",
    "    print(f\"Данных в каждой группе достаточно для теста - {group_sample_size>sample_size}\")"
   ],
   "id": "a1ea4ae94c7a6546",
   "outputs": [],
   "execution_count": 6
  },
  {
   "metadata": {},
   "cell_type": "markdown",
   "source": "##### retention_1",
   "id": "5cb13a85d745d45f"
  },
  {
   "metadata": {
    "ExecuteTime": {
     "end_time": "2025-07-03T19:43:38.022216Z",
     "start_time": "2025-07-03T19:43:38.012976Z"
    }
   },
   "cell_type": "code",
   "source": "sample_sufficiency_test(p1_retention_1,p2_retention_1,effect_size_retention_1, group_sample_size)",
   "id": "9f6408c1006f223a",
   "outputs": [
    {
     "name": "stdout",
     "output_type": "stream",
     "text": [
      "Данных в каждой группе достаточно для теста - True\n"
     ]
    }
   ],
   "execution_count": 7
  },
  {
   "metadata": {},
   "cell_type": "markdown",
   "source": "##### retention_7",
   "id": "7f335c6c378160e2"
  },
  {
   "metadata": {
    "ExecuteTime": {
     "end_time": "2025-07-03T19:43:38.092792Z",
     "start_time": "2025-07-03T19:43:38.086159Z"
    }
   },
   "cell_type": "code",
   "source": "sample_sufficiency_test(p1_retention_7,p2_retention_7,effect_size_retention_7, group_sample_size)",
   "id": "9c00a68273816e32",
   "outputs": [
    {
     "name": "stdout",
     "output_type": "stream",
     "text": [
      "Данных в каждой группе достаточно для теста - True\n"
     ]
    }
   ],
   "execution_count": 8
  },
  {
   "metadata": {},
   "cell_type": "markdown",
   "source": "#### Z-тест пропорций",
   "id": "2e13a44cb063cfeb"
  },
  {
   "metadata": {},
   "cell_type": "markdown",
   "source": "##### retention_1",
   "id": "805c5c6505c72c58"
  },
  {
   "metadata": {
    "ExecuteTime": {
     "end_time": "2025-07-03T19:43:38.164578Z",
     "start_time": "2025-07-03T19:43:38.159319Z"
    }
   },
   "cell_type": "code",
   "source": [
    "success = [metrics_summary.loc['gate_40','retention_1'], metrics_summary.loc['gate_30','retention_1']]\n",
    "nobs = [metrics_summary.loc['gate_40','userid'], metrics_summary.loc['gate_30','userid']]\n",
    "\n",
    "z_stat, p_value = proportions_ztest(count=success, nobs=nobs, alternative='larger')\n",
    "\n",
    "print(f\"Z-статистика: {z_stat:.3f}\")\n",
    "print(f\"P-value: {p_value:.4f}\")\n",
    "print(f'Нулевая гипотеза отвергнута - {p_value < 0.05}')"
   ],
   "id": "a0c397b09080f537",
   "outputs": [
    {
     "name": "stdout",
     "output_type": "stream",
     "text": [
      "Z-статистика: -1.784\n",
      "P-value: 0.9628\n",
      "Нулевая гипотеза отвергнута - False\n"
     ]
    }
   ],
   "execution_count": 9
  },
  {
   "metadata": {},
   "cell_type": "markdown",
   "source": "##### retention_7",
   "id": "6d0068b10e274830"
  },
  {
   "metadata": {
    "ExecuteTime": {
     "end_time": "2025-07-03T19:43:38.196821Z",
     "start_time": "2025-07-03T19:43:38.191351Z"
    }
   },
   "cell_type": "code",
   "source": [
    "success = [metrics_summary.loc['gate_40','retention_7'], metrics_summary.loc['gate_30','retention_7']]\n",
    "nobs = [metrics_summary.loc['gate_40','userid'], metrics_summary.loc['gate_30','userid']]\n",
    "\n",
    "z_stat, p_value = proportions_ztest(count=success, nobs=nobs, alternative='larger')\n",
    "\n",
    "print(f\"Z-статистика: {z_stat:.3f}\")\n",
    "print(f\"P-value: {p_value:.4f}\")\n",
    "print(f'Нулевая гипотеза отвергнута - {p_value < 0.05}')"
   ],
   "id": "7a518fd6025e4a7d",
   "outputs": [
    {
     "name": "stdout",
     "output_type": "stream",
     "text": [
      "Z-статистика: -3.164\n",
      "P-value: 0.9992\n",
      "Нулевая гипотеза отвергнута - False\n"
     ]
    }
   ],
   "execution_count": 10
  },
  {
   "metadata": {},
   "cell_type": "markdown",
   "source": "### sum_gamerounds",
   "id": "934c221ff8810b49"
  },
  {
   "metadata": {},
   "cell_type": "markdown",
   "source": "#### EDA",
   "id": "6744b8ebe2ba8ffb"
  },
  {
   "metadata": {
    "ExecuteTime": {
     "end_time": "2025-07-03T19:53:40.622982Z",
     "start_time": "2025-07-03T19:53:40.604891Z"
    }
   },
   "cell_type": "code",
   "source": "data.groupby('version')['sum_gamerounds'].describe()",
   "id": "f1be5cd017f90d6c",
   "outputs": [
    {
     "data": {
      "text/plain": [
       "           count       mean         std  min  25%   50%   75%      max\n",
       "version                                                               \n",
       "gate_30  44700.0  52.456264  256.716423  0.0  5.0  17.0  50.0  49854.0\n",
       "gate_40  45489.0  51.298776  103.294416  0.0  5.0  16.0  52.0   2640.0"
      ],
      "text/html": [
       "<div>\n",
       "<style scoped>\n",
       "    .dataframe tbody tr th:only-of-type {\n",
       "        vertical-align: middle;\n",
       "    }\n",
       "\n",
       "    .dataframe tbody tr th {\n",
       "        vertical-align: top;\n",
       "    }\n",
       "\n",
       "    .dataframe thead th {\n",
       "        text-align: right;\n",
       "    }\n",
       "</style>\n",
       "<table border=\"1\" class=\"dataframe\">\n",
       "  <thead>\n",
       "    <tr style=\"text-align: right;\">\n",
       "      <th></th>\n",
       "      <th>count</th>\n",
       "      <th>mean</th>\n",
       "      <th>std</th>\n",
       "      <th>min</th>\n",
       "      <th>25%</th>\n",
       "      <th>50%</th>\n",
       "      <th>75%</th>\n",
       "      <th>max</th>\n",
       "    </tr>\n",
       "    <tr>\n",
       "      <th>version</th>\n",
       "      <th></th>\n",
       "      <th></th>\n",
       "      <th></th>\n",
       "      <th></th>\n",
       "      <th></th>\n",
       "      <th></th>\n",
       "      <th></th>\n",
       "      <th></th>\n",
       "    </tr>\n",
       "  </thead>\n",
       "  <tbody>\n",
       "    <tr>\n",
       "      <th>gate_30</th>\n",
       "      <td>44700.0</td>\n",
       "      <td>52.456264</td>\n",
       "      <td>256.716423</td>\n",
       "      <td>0.0</td>\n",
       "      <td>5.0</td>\n",
       "      <td>17.0</td>\n",
       "      <td>50.0</td>\n",
       "      <td>49854.0</td>\n",
       "    </tr>\n",
       "    <tr>\n",
       "      <th>gate_40</th>\n",
       "      <td>45489.0</td>\n",
       "      <td>51.298776</td>\n",
       "      <td>103.294416</td>\n",
       "      <td>0.0</td>\n",
       "      <td>5.0</td>\n",
       "      <td>16.0</td>\n",
       "      <td>52.0</td>\n",
       "      <td>2640.0</td>\n",
       "    </tr>\n",
       "  </tbody>\n",
       "</table>\n",
       "</div>"
      ]
     },
     "execution_count": 38,
     "metadata": {},
     "output_type": "execute_result"
    }
   ],
   "execution_count": 38
  },
  {
   "metadata": {
    "ExecuteTime": {
     "end_time": "2025-07-03T20:00:30.144202Z",
     "start_time": "2025-07-03T20:00:30.132109Z"
    }
   },
   "cell_type": "code",
   "source": "q95 = data['sum_gamerounds'].quantile(0.95)",
   "id": "e245e7b7629ff186",
   "outputs": [],
   "execution_count": 57
  },
  {
   "metadata": {
    "ExecuteTime": {
     "end_time": "2025-07-03T20:01:30.831720Z",
     "start_time": "2025-07-03T20:01:30.256759Z"
    }
   },
   "cell_type": "code",
   "source": [
    "plt.figure(figsize=(10, 5))\n",
    "sns.kdeplot(data=data[data['sum_gamerounds'] < q95], x='sum_gamerounds', hue='version', common_norm=False)\n",
    "plt.title('Распределение sum_gamerounds по группам #1')\n",
    "plt.grid(True)\n",
    "plt.show()"
   ],
   "id": "688a20e48d2a653b",
   "outputs": [
    {
     "data": {
      "text/plain": [
       "<Figure size 1000x500 with 1 Axes>"
      ],
      "image/png": "[encoded data removed]"
     },
     "metadata": {},
     "output_type": "display_data"
    }
   ],
   "execution_count": 60
  },
  {
   "metadata": {
    "ExecuteTime": {
     "end_time": "2025-07-03T20:00:35.932698Z",
     "start_time": "2025-07-03T20:00:35.753592Z"
    }
   },
   "cell_type": "code",
   "source": [
    "plt.figure(figsize=(8, 4))\n",
    "sns.boxplot(data=data[data['sum_gamerounds'] < q95], x='version', y='sum_gamerounds')\n",
    "plt.title('Распределение sum_gamerounds по группам #2')\n",
    "plt.grid(True)\n",
    "plt.tight_layout()\n",
    "plt.show()"
   ],
   "id": "d0fb467efa7141c4",
   "outputs": [
    {
     "data": {
      "text/plain": [
       "<Figure size 800x400 with 1 Axes>"
      ],
      "image/png": "[encoded data removed]"
     },
     "metadata": {},
     "output_type": "display_data"
    }
   ],
   "execution_count": 59
  },
  {
   "metadata": {},
   "cell_type": "markdown",
   "source": "#### Mann–Whitney U‑тест",
   "id": "deae683f5d9301ae"
  },
  {
   "metadata": {
    "ExecuteTime": {
     "end_time": "2025-07-03T20:07:17.843170Z",
     "start_time": "2025-07-03T20:07:17.812781Z"
    }
   },
   "cell_type": "code",
   "source": [
    "group_30 = data[data['version'] == 'gate_30']['sum_gamerounds']\n",
    "group_40 = data[data['version'] == 'gate_40']['sum_gamerounds']\n",
    "\n",
    "stat, p_value = mannwhitneyu(group_40, group_30, alternative='greater')\n",
    "\n",
    "print(f\"U-статистика: {stat}\")\n",
    "print(f\"P-value: {p_value:.4f}\")\n",
    "print(f'Нулевая гипотеза отвергнута - {p_value < 0.05}')"
   ],
   "id": "9e74bcff351e03b9",
   "outputs": [
    {
     "name": "stdout",
     "output_type": "stream",
     "text": [
      "U-статистика: 1009027049.5\n",
      "P-value: 0.9749\n",
      "Нулевая гипотеза отвергнута - False\n"
     ]
    }
   ],
   "execution_count": 64
  }
 ],
 "metadata": {
  "kernelspec": {
   "display_name": "Python 3",
   "language": "python",
   "name": "python3"
  },
  "language_info": {
   "codemirror_mode": {
    "name": "ipython",
    "version": 2
   },
   "file_extension": ".py",
   "mimetype": "text/x-python",
   "name": "python",
   "nbconvert_exporter": "python",
   "pygments_lexer": "ipython2",
   "version": "2.7.6"
  }
 },
 "nbformat": 4,
 "nbformat_minor": 5
}
